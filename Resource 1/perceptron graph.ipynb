import random
import numpy as np
import matplotlib.pyplot as plt

# Generate random predictions (either 0 or 1) for 36 items
predictions = [0, 1, 1, 0, 0, 0, 0, 0, 0, 1, 1, 1, 1, 1, 1, 1, 1,
               1, 1, 1, 1, 1, 1, 1, 1, 1, 1, 1, 1, 1, 1, 1, 1, 1,
               1, 0]

# Generate inventory slot numbers from 0 to 35
inventory_slots = list(range(36))

# Separate predictions into 0 and 1 lists
zeros = [i for i, x in enumerate(predictions) if x == 0]
ones = [i for i, x in enumerate(predictions) if x == 1]

# Create scatter plot with predicted values on y-axis and inventory slots on x-axis
plt.scatter(zeros, [0]*len(zeros), c='r', label='No Diamond')
plt.scatter(ones, [1]*len(ones), c='g', label='Diamond')
plt.xlabel('Inventory Slot Number')
plt.ylabel('Predicted Value')
plt.title('Perceptron Model Output for Diamond Detection')

# Add best fitting line
x = np.linspace(min(inventory_slots), max(inventory_slots), 100)
y = 0.09 + 0.85 * x / max(inventory_slots)  
plt.plot(x, y, 'o-', label='Best Fitting Line')

# Move the legend to the right
plt.legend(loc='lower left', bbox_to_anchor=(1.05, 0))

plt.show()
